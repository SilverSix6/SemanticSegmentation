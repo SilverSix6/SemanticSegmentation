{
 "cells": [
  {
   "cell_type": "code",
   "outputs": [
    {
     "ename": "FileNotFoundError",
     "evalue": "[Errno 2] No such file or directory: 'data\\\\raw\\\\test-images\\\\gtFine\\\\train\\\\zurich\\\\zurich_000000_000019_gtFine_labelIds.png'",
     "output_type": "error",
     "traceback": [
      "\u001B[1;31m---------------------------------------------------------------------------\u001B[0m",
      "\u001B[1;31mFileNotFoundError\u001B[0m                         Traceback (most recent call last)",
      "Cell \u001B[1;32mIn[6], line 7\u001B[0m\n\u001B[0;32m      5\u001B[0m \u001B[38;5;66;03m# Load the image\u001B[39;00m\n\u001B[0;32m      6\u001B[0m image_path \u001B[38;5;241m=\u001B[39m \u001B[38;5;124mr\u001B[39m\u001B[38;5;124m'\u001B[39m\u001B[38;5;124mdata\u001B[39m\u001B[38;5;124m\\\u001B[39m\u001B[38;5;124mraw\u001B[39m\u001B[38;5;124m\\\u001B[39m\u001B[38;5;124mtest-images\u001B[39m\u001B[38;5;124m\\\u001B[39m\u001B[38;5;124mgtFine\u001B[39m\u001B[38;5;124m\\\u001B[39m\u001B[38;5;124mtrain\u001B[39m\u001B[38;5;124m\\\u001B[39m\u001B[38;5;124mzurich\u001B[39m\u001B[38;5;124m\\\u001B[39m\u001B[38;5;124mzurich_000000_000019_gtFine_labelIds.png\u001B[39m\u001B[38;5;124m'\u001B[39m\n\u001B[1;32m----> 7\u001B[0m image \u001B[38;5;241m=\u001B[39m Image\u001B[38;5;241m.\u001B[39mopen(image_path)\u001B[38;5;241m.\u001B[39mconvert(\u001B[38;5;124m'\u001B[39m\u001B[38;5;124mL\u001B[39m\u001B[38;5;124m'\u001B[39m)  \u001B[38;5;66;03m# Convert to grayscale\u001B[39;00m\n\u001B[0;32m      9\u001B[0m \u001B[38;5;66;03m# Convert the image to a numpy array\u001B[39;00m\n\u001B[0;32m     10\u001B[0m image_matrix \u001B[38;5;241m=\u001B[39m np\u001B[38;5;241m.\u001B[39marray(image)\n",
      "File \u001B[1;32mB:\\David\\Conda\\Lib\\site-packages\\PIL\\Image.py:3218\u001B[0m, in \u001B[0;36mopen\u001B[1;34m(fp, mode, formats)\u001B[0m\n\u001B[0;32m   3215\u001B[0m     filename \u001B[38;5;241m=\u001B[39m fp\n\u001B[0;32m   3217\u001B[0m \u001B[38;5;28;01mif\u001B[39;00m filename:\n\u001B[1;32m-> 3218\u001B[0m     fp \u001B[38;5;241m=\u001B[39m builtins\u001B[38;5;241m.\u001B[39mopen(filename, \u001B[38;5;124m\"\u001B[39m\u001B[38;5;124mrb\u001B[39m\u001B[38;5;124m\"\u001B[39m)\n\u001B[0;32m   3219\u001B[0m     exclusive_fp \u001B[38;5;241m=\u001B[39m \u001B[38;5;28;01mTrue\u001B[39;00m\n\u001B[0;32m   3221\u001B[0m \u001B[38;5;28;01mtry\u001B[39;00m:\n",
      "\u001B[1;31mFileNotFoundError\u001B[0m: [Errno 2] No such file or directory: 'data\\\\raw\\\\test-images\\\\gtFine\\\\train\\\\zurich\\\\zurich_000000_000019_gtFine_labelIds.png'"
     ]
    }
   ],
   "source": [
    "from PIL import Image\n",
    "import numpy as np\n",
    "import matplotlib.pyplot as plt\n",
    "\n",
    "# Load the image\n",
    "image_path = r'data\\raw\\test-images\\gtFine\\train\\zurich\\zurich_000000_000019_gtFine_labelIds.png'\n",
    "image = Image.open(image_path).convert('L')  # Convert to grayscale\n",
    "\n",
    "# Convert the image to a numpy array\n",
    "image_matrix = np.array(image)\n",
    "\n",
    "# Print the matrix\n",
    "print(image_matrix)\n",
    "\n",
    "print(image_matrix[450][1100])\n",
    "\n",
    "# Display the image\n",
    "plt.imshow(image_matrix, cmap='gray')\n",
    "plt.colorbar()\n",
    "plt.show()"
   ],
   "metadata": {
    "collapsed": false,
    "ExecuteTime": {
     "end_time": "2025-03-25T19:37:04.778523Z",
     "start_time": "2025-03-25T19:37:04.745301Z"
    }
   },
   "id": "83f1c98d5f6cc3e1",
   "execution_count": 6
  },
  {
   "cell_type": "code",
   "outputs": [
    {
     "name": "stdout",
     "output_type": "stream",
     "text": [
      "Files loaded\n",
      "Loaded folder of images: data/raw/test-images/leftImg8bit/train\n"
     ]
    },
    {
     "ename": "FileNotFoundError",
     "evalue": "[WinError 3] The system cannot find the path specified: 'C:\\\\Users\\\\David\\\\DataspellProjects\\\\SemanticSegmentation\\\\data/raw/test-images/leftImg8bit/train'",
     "output_type": "error",
     "traceback": [
      "\u001B[1;31m---------------------------------------------------------------------------\u001B[0m",
      "\u001B[1;31mFileNotFoundError\u001B[0m                         Traceback (most recent call last)",
      "Cell \u001B[1;32mIn[5], line 16\u001B[0m\n\u001B[0;32m     12\u001B[0m cluster \u001B[38;5;241m=\u001B[39m read_clusters(cluster_file) \u001B[38;5;66;03m# Cluster ID, avg colour and centroid. \u001B[39;00m\n\u001B[0;32m     14\u001B[0m image_directory \u001B[38;5;241m=\u001B[39m \u001B[38;5;124m'\u001B[39m\u001B[38;5;124mdata/raw/test-images/leftImg8bit/train\u001B[39m\u001B[38;5;124m'\u001B[39m\n\u001B[1;32m---> 16\u001B[0m image_filenames \u001B[38;5;241m=\u001B[39m  load_folder_image(image_directory)\n\u001B[0;32m     18\u001B[0m id_directory \u001B[38;5;241m=\u001B[39m \u001B[38;5;124m'\u001B[39m\u001B[38;5;124mdata/raw/test-images/gtFine/train\u001B[39m\u001B[38;5;124m'\u001B[39m\n\u001B[0;32m     19\u001B[0m search_string \u001B[38;5;241m=\u001B[39m \u001B[38;5;124m'\u001B[39m\u001B[38;5;124mlabel\u001B[39m\u001B[38;5;124m'\u001B[39m  \u001B[38;5;66;03m# Replace this with the substring you want to match\u001B[39;00m\n",
      "File \u001B[1;32m~\\DataspellProjects\\SemanticSegmentation\\src\\labeling\\image_load_util.py:35\u001B[0m, in \u001B[0;36mload_folder_image\u001B[1;34m(folder_path)\u001B[0m\n\u001B[0;32m     33\u001B[0m file_paths \u001B[38;5;241m=\u001B[39m []\n\u001B[0;32m     34\u001B[0m full_folder_path \u001B[38;5;241m=\u001B[39m get_full_path_from_root(folder_path)\n\u001B[1;32m---> 35\u001B[0m possible_file_paths \u001B[38;5;241m=\u001B[39m os\u001B[38;5;241m.\u001B[39mlistdir(full_folder_path)\n\u001B[0;32m     37\u001B[0m \u001B[38;5;66;03m# Sort file paths to be in order\u001B[39;00m\n\u001B[0;32m     38\u001B[0m possible_file_paths \u001B[38;5;241m=\u001B[39m \u001B[38;5;28msorted\u001B[39m(possible_file_paths)\n",
      "\u001B[1;31mFileNotFoundError\u001B[0m: [WinError 3] The system cannot find the path specified: 'C:\\\\Users\\\\David\\\\DataspellProjects\\\\SemanticSegmentation\\\\data/raw/test-images/leftImg8bit/train'"
     ]
    }
   ],
   "source": [
    "import cv2\n",
    "from labeling.image_load_util import load_folder_image, get_full_path_from_root\n",
    "from utils.serialize import read_clusters, read_matrix\n",
    "import os\n",
    "\n",
    "matrix_file = open(\"data/slic/full_slic_matrix.bin\", \"rb\")\n",
    "cluster_file = open(\"data/slic/full_slic_cluster.bin\", \"rb\")\n",
    "print(\"Files loaded\")\n",
    "\n",
    "# Load the matrix and cluster\n",
    "matrix = read_matrix(matrix_file) # Matrix size image, pixel corresponds to cluster\n",
    "cluster = read_clusters(cluster_file) # Cluster ID, avg colour and centroid. \n",
    "\n",
    "image_directory = 'data/raw/test-images/leftImg8bit/train'\n",
    "\n",
    "image_filenames =  load_folder_image(image_directory)\n",
    "\n",
    "id_directory = 'data/raw/test-images/gtFine/train' # This is the ground truth labels\n",
    "search_string = 'label'  # Replace this with the substring you want to match\n",
    "id_filenames = []\n",
    "\n",
    "all_filenames = load_folder_image(id_directory)\n",
    "for id in all_filenames:\n",
    "    if search_string in str(id):\n",
    "        id_filenames.append(id)\n",
    "\n",
    "\n",
    "matrix_file.close()\n",
    "cluster_file.close()"
   ],
   "metadata": {
    "collapsed": false,
    "ExecuteTime": {
     "end_time": "2025-03-25T19:37:00.807588Z",
     "start_time": "2025-03-25T19:37:00.779007Z"
    }
   },
   "id": "46d152e2d5211d0f",
   "execution_count": 5
  },
  {
   "cell_type": "code",
   "outputs": [],
   "source": [
    "import numpy as np\n",
    "import cv2\n",
    "from sklearn.svm import SVC\n",
    "from sklearn.preprocessing import StandardScaler\n",
    "from sklearn.pipeline import make_pipeline\n",
    "from joblib import dump, load\n",
    "\n",
    "# current feature extraction method - mean color and centroid\n",
    "def extract_features_from_clusters(cluster_matrix):\n",
    "    features = []\n",
    "    for cluster in cluster_matrix:\n",
    "        mean_color = [cluster.l, cluster.a, cluster.b] \n",
    "        centroid = [cluster.x, cluster.y]\n",
    "        feature_vector = mean_color + centroid\n",
    "        # feature_vector = centroid\n",
    "        features.append(feature_vector)\n",
    "    return np.array(features)\n",
    "\n",
    "def prepare_training_data(cluster_matrices, ground_truth_matrices, slic_matrix):\n",
    "    X_train, y_train = [], []\n",
    "    i = 0\n",
    "    j = 0\n",
    "    cluster_labels = []\n",
    "    for clusters, gt in zip(cluster_matrices, ground_truth_matrices):\n",
    "        features = extract_features_from_clusters(clusters)\n",
    "        # print(\"Features: \", features)\n",
    "        # print(\"Ground Truth Size: \", np.shape(ground_truth_matrices))\n",
    "        for cluster in clusters:\n",
    "            gt = ground_truth_matrices[j]\n",
    "            cid = cluster.cid\n",
    "            # print(\"Slic Matrix: \",slic_matrix[j])\n",
    "            # print(\"Cluster ID: \",cid)\n",
    "            mask = (slic_matrix[j] == (int(cid+1)))\n",
    "            # print(\"Mask: \",mask)\n",
    "            # print(\"Ground Truth: \", gt)\n",
    "            labels, counts = np.unique(gt[mask], return_counts=True)\n",
    "            # print(labels)\n",
    "            # print(counts)\n",
    "            dominant_label = labels[np.argmax(counts)]\n",
    "            y_train.append(dominant_label)\n",
    "            i += 1\n",
    "            if i%510 == 0:\n",
    "                j += 1\n",
    "                break\n",
    "\n",
    "        X_train.extend(features)\n",
    "\n",
    "    return np.array(X_train), np.array(y_train)\n",
    "\n",
    "\n",
    "def train_svm(X_train, y_train):\n",
    "    scaler = StandardScaler()\n",
    "    svm = SVC(kernel='rbf', C=10, gamma='scale', probability=True)\n",
    "    pipeline = make_pipeline(scaler, svm)\n",
    "\n",
    "    pipeline.fit(X_train, y_train)\n",
    "    return pipeline\n",
    "\n",
    "def predict_cluster_labels(cluster_matrix, model, segments):\n",
    "    features = extract_features_from_clusters(cluster_matrix)\n",
    "    predictions = model.predict(features)\n",
    "    \n",
    "    segmentation_result = np.zeros(segments.shape, dtype=np.int32)\n",
    "    for cluster, label in zip(cluster_matrix, predictions):\n",
    "        cid = cluster.cid\n",
    "        segmentation_result[segments == cid] = label\n",
    "\n",
    "    return segmentation_result"
   ],
   "metadata": {
    "collapsed": false,
    "ExecuteTime": {
     "end_time": "2025-03-25T20:00:38.761494Z",
     "start_time": "2025-03-25T20:00:38.753571Z"
    }
   },
   "id": "9b72030366596d68",
   "execution_count": 45
  },
  {
   "cell_type": "code",
   "outputs": [
    {
     "name": "stdout",
     "output_type": "stream",
     "text": [
      "[[  1   1   1 ...  62  62  62]\n",
      " [  1   1   1 ...  62  62  62]\n",
      " [  1   1   1 ...  62  62  62]\n",
      " ...\n",
      " [480 480 480 ... 511 511 511]\n",
      " [480 480 480 ... 511 511 511]\n",
      " [480 480 480 ... 511 511 511]]\n",
      "PyCluster(x=704.5319213867188, y=24.520620346069336, l=44.12792205810547, a=0.0, b=4.532702922821045, n=3807, cid=10)\n"
     ]
    }
   ],
   "source": [
    "cluster_cell = []\n",
    "matrix_cell = []\n",
    "matrix_file = open(\"data/slic/full_slic_matrix.bin\", \"rb\")\n",
    "cluster_file = open(\"data/slic/full_slic_cluster.bin\", \"rb\")\n",
    "\n",
    "\n",
    "for i in range(0,3):\n",
    "    cluster_cell.append(read_clusters(cluster_file))\n",
    "    matrix_cell.append(read_matrix(matrix_file))\n",
    "\n",
    "\n",
    "\n",
    "print(matrix_cell[0])\n",
    "print(cluster_cell[0][10])\n",
    "matrix_file.close()\n",
    "cluster_file.close()"
   ],
   "metadata": {
    "collapsed": false,
    "ExecuteTime": {
     "end_time": "2025-03-25T19:37:23.215961Z",
     "start_time": "2025-03-25T19:37:23.196702Z"
    }
   },
   "id": "5c5589303426e9da",
   "execution_count": 8
  },
  {
   "cell_type": "code",
   "outputs": [
    {
     "name": "stdout",
     "output_type": "stream",
     "text": [
      "Loaded folder of images: src/classification/data/raw/test-images/gtFine/train\n",
      "Loaded folder of images: C:\\Users\\David\\DataspellProjects\\SemanticSegmentation\\src/classification/data/raw/test-images/gtFine/train\\aachen\n",
      "Loaded folder of images: C:\\Users\\David\\DataspellProjects\\SemanticSegmentation\\src/classification/data/raw/test-images/gtFine/train\\bochum\n",
      "Loaded folder of images: C:\\Users\\David\\DataspellProjects\\SemanticSegmentation\\src/classification/data/raw/test-images/gtFine/train\\bremen\n",
      "Loaded folder of images: C:\\Users\\David\\DataspellProjects\\SemanticSegmentation\\src/classification/data/raw/test-images/gtFine/train\\cologne\n",
      "Loaded folder of images: C:\\Users\\David\\DataspellProjects\\SemanticSegmentation\\src/classification/data/raw/test-images/gtFine/train\\darmstadt\n",
      "Loaded folder of images: C:\\Users\\David\\DataspellProjects\\SemanticSegmentation\\src/classification/data/raw/test-images/gtFine/train\\dusseldorf\n",
      "Loaded folder of images: C:\\Users\\David\\DataspellProjects\\SemanticSegmentation\\src/classification/data/raw/test-images/gtFine/train\\erfurt\n",
      "Loaded folder of images: C:\\Users\\David\\DataspellProjects\\SemanticSegmentation\\src/classification/data/raw/test-images/gtFine/train\\hamburg\n",
      "Loaded folder of images: C:\\Users\\David\\DataspellProjects\\SemanticSegmentation\\src/classification/data/raw/test-images/gtFine/train\\hanover\n",
      "Loaded folder of images: C:\\Users\\David\\DataspellProjects\\SemanticSegmentation\\src/classification/data/raw/test-images/gtFine/train\\jena\n",
      "Loaded folder of images: C:\\Users\\David\\DataspellProjects\\SemanticSegmentation\\src/classification/data/raw/test-images/gtFine/train\\krefeld\n",
      "Loaded folder of images: C:\\Users\\David\\DataspellProjects\\SemanticSegmentation\\src/classification/data/raw/test-images/gtFine/train\\monchengladbach\n",
      "Loaded folder of images: C:\\Users\\David\\DataspellProjects\\SemanticSegmentation\\src/classification/data/raw/test-images/gtFine/train\\strasbourg\n",
      "Loaded folder of images: C:\\Users\\David\\DataspellProjects\\SemanticSegmentation\\src/classification/data/raw/test-images/gtFine/train\\stuttgart\n",
      "Loaded folder of images: C:\\Users\\David\\DataspellProjects\\SemanticSegmentation\\src/classification/data/raw/test-images/gtFine/train\\tubingen\n",
      "Loaded folder of images: C:\\Users\\David\\DataspellProjects\\SemanticSegmentation\\src/classification/data/raw/test-images/gtFine/train\\ulm\n",
      "Loaded folder of images: C:\\Users\\David\\DataspellProjects\\SemanticSegmentation\\src/classification/data/raw/test-images/gtFine/train\\weimar\n",
      "Loaded folder of images: C:\\Users\\David\\DataspellProjects\\SemanticSegmentation\\src/classification/data/raw/test-images/gtFine/train\\zurich\n"
     ]
    }
   ],
   "source": [
    "id_directory = 'src/classification/data/raw/test-images/gtFine/train'\n",
    "# search_string = 'instance'  # Replace this with the substring you want to match\n",
    "search_string = 'label'  # Replace this with the substring you want to match\n",
    "id_filenames = []\n",
    "\n",
    "all_filenames = load_folder_image(id_directory)\n",
    "for id in all_filenames:\n",
    "    if search_string in str(id):\n",
    "        id_filenames.append(id)\n",
    "        \n",
    "ground_truth_matrices = []\n",
    "for id_filename in id_filenames:\n",
    "    ground_truth_matrices.append(cv2.imread(id_filename, cv2.IMREAD_GRAYSCALE))"
   ],
   "metadata": {
    "collapsed": false,
    "ExecuteTime": {
     "end_time": "2025-03-25T20:13:35.117875Z",
     "start_time": "2025-03-25T20:13:13.195981Z"
    }
   },
   "id": "4fa409c2a6861484",
   "execution_count": 54
  },
  {
   "cell_type": "code",
   "outputs": [
    {
     "name": "stdout",
     "output_type": "stream",
     "text": [
      "(2975, 1024, 2048)\n"
     ]
    }
   ],
   "source": [
    "print(np.shape(ground_truth_matrices))"
   ],
   "metadata": {
    "collapsed": false,
    "ExecuteTime": {
     "end_time": "2025-03-25T20:13:57.762334Z",
     "start_time": "2025-03-25T20:13:55.453662Z"
    }
   },
   "id": "edc87407d716c17a",
   "execution_count": 55
  },
  {
   "cell_type": "code",
   "outputs": [],
   "source": [
    "matrix_file = open(\"data/slic/full_slic_matrix.bin\", \"rb\")\n",
    "cluster_file = open(\"data/slic/full_slic_cluster.bin\", \"rb\")\n",
    "appended_gt = []\n",
    "matrix_cell = []\n",
    "cluster_cell = []\n",
    "\n",
    "\n",
    "for i in range(0,10):\n",
    "    cluster_cell.append(read_clusters(cluster_file))\n",
    "    matrix_cell.append(read_matrix(matrix_file))\n",
    "    appended_gt.append(ground_truth_matrices[i])\n",
    "\n",
    "\n",
    "x_train, y_train = prepare_training_data(cluster_cell, appended_gt, matrix_cell)\n",
    "matrix_file.close()\n",
    "cluster_file.close()"
   ],
   "metadata": {
    "collapsed": false,
    "ExecuteTime": {
     "end_time": "2025-03-26T02:55:08.373483Z",
     "start_time": "2025-03-26T02:54:59.953073Z"
    }
   },
   "id": "d1de19256803edbd",
   "execution_count": 58
  },
  {
   "cell_type": "code",
   "outputs": [
    {
     "name": "stdout",
     "output_type": "stream",
     "text": [
      "(5100,)\n"
     ]
    }
   ],
   "source": [
    "# print(x_train)\n",
    "print(np.shape(y_train))"
   ],
   "metadata": {
    "collapsed": false,
    "ExecuteTime": {
     "end_time": "2025-03-26T02:55:10.513286Z",
     "start_time": "2025-03-26T02:55:10.509657Z"
    }
   },
   "id": "984ddf28fcdd07c1",
   "execution_count": 59
  },
  {
   "cell_type": "code",
   "outputs": [],
   "source": [
    "model = train_svm(x_train[0:2500], y_train[0:2500]) # Train on the first 2500 samples"
   ],
   "metadata": {
    "collapsed": false,
    "ExecuteTime": {
     "end_time": "2025-03-26T02:55:12.896013Z",
     "start_time": "2025-03-26T02:55:11.453334Z"
    }
   },
   "id": "cde27fe73acec31b",
   "execution_count": 60
  },
  {
   "cell_type": "code",
   "outputs": [],
   "source": [
    "test_image = 9 # 9 at 77.5%\n",
    "predicted_labels = predict_cluster_labels(cluster_cell[test_image], model, matrix_cell[test_image])"
   ],
   "metadata": {
    "collapsed": false,
    "ExecuteTime": {
     "end_time": "2025-03-26T02:55:21.514641Z",
     "start_time": "2025-03-26T02:55:20.422394Z"
    }
   },
   "id": "284a6dbdcb927050",
   "execution_count": 62
  },
  {
   "cell_type": "code",
   "outputs": [],
   "source": [
    "def calculate_matching_percentage(matrix1, matrix2):\n",
    "    # Ensure both matrices have the same shape\n",
    "    if np.shape(matrix1) != np.shape(matrix2):\n",
    "        raise ValueError(\"Matrices must have the same shape\")\n",
    "\n",
    "    # Compare the matrices element-wise\n",
    "    matching_elements = (matrix1 == matrix2)\n",
    "\n",
    "    # Calculate the percentage of matching values\n",
    "    matching_percentage = np.sum(matching_elements) / matching_elements.size * 100\n",
    "\n",
    "    return matching_percentage"
   ],
   "metadata": {
    "collapsed": false,
    "ExecuteTime": {
     "end_time": "2025-03-26T02:55:22.159351Z",
     "start_time": "2025-03-26T02:55:22.155844Z"
    }
   },
   "id": "f500b3c167a3d975",
   "execution_count": 63
  },
  {
   "cell_type": "code",
   "outputs": [
    {
     "name": "stdout",
     "output_type": "stream",
     "text": [
      "Matching percentage: 77.54%\n"
     ]
    }
   ],
   "source": [
    "percentage = calculate_matching_percentage(predicted_labels, appended_gt[test_image])\n",
    "\n",
    "print(f\"Matching percentage: {percentage:.2f}%\")"
   ],
   "metadata": {
    "collapsed": false,
    "ExecuteTime": {
     "end_time": "2025-03-26T02:55:23.027504Z",
     "start_time": "2025-03-26T02:55:23.018329Z"
    }
   },
   "id": "b3faad9deeff0b68",
   "execution_count": 64
  },
  {
   "cell_type": "code",
   "outputs": [
    {
     "data": {
      "text/plain": "<matplotlib.colorbar.Colorbar at 0x2b44efbbb90>"
     },
     "execution_count": 65,
     "metadata": {},
     "output_type": "execute_result"
    },
    {
     "data": {
      "text/plain": "<Figure size 640x480 with 2 Axes>",
      "image/png": "[encoded data removed]"
     },
     "metadata": {},
     "output_type": "display_data"
    }
   ],
   "source": [
    "import matplotlib.pyplot as plt\n",
    "import numpy as np\n",
    "\n",
    "plt.imshow(predicted_labels, cmap='gray')\n",
    "plt.colorbar()\n"
   ],
   "metadata": {
    "collapsed": false,
    "ExecuteTime": {
     "end_time": "2025-03-26T02:55:24.744649Z",
     "start_time": "2025-03-26T02:55:24.357544Z"
    }
   },
   "id": "ccff39bdbf5e05e7",
   "execution_count": 65
  },
  {
   "cell_type": "code",
   "outputs": [
    {
     "data": {
      "text/plain": "<matplotlib.colorbar.Colorbar at 0x2b474b30310>"
     },
     "execution_count": 66,
     "metadata": {},
     "output_type": "execute_result"
    },
    {
     "data": {
      "text/plain": "<Figure size 640x480 with 2 Axes>",
      "image/png": "[encoded data removed]"
     },
     "metadata": {},
     "output_type": "display_data"
    }
   ],
   "source": [
    "plt.imshow(appended_gt[test_image], cmap='gray')\n",
    "plt.colorbar()"
   ],
   "metadata": {
    "collapsed": false,
    "ExecuteTime": {
     "end_time": "2025-03-26T02:55:26.342103Z",
     "start_time": "2025-03-26T02:55:25.904701Z"
    }
   },
   "id": "af35ee640c90b583",
   "execution_count": 66
  },
  {
   "cell_type": "code",
   "outputs": [],
   "source": [],
   "metadata": {
    "collapsed": false
   },
   "id": "df5741b92f8b4809"
  }
 ],
 "metadata": {
  "kernelspec": {
   "display_name": "Python 3",
   "language": "python",
   "name": "python3"
  },
  "language_info": {
   "codemirror_mode": {
    "name": "ipython",
    "version": 2
   },
   "file_extension": ".py",
   "mimetype": "text/x-python",
   "name": "python",
   "nbconvert_exporter": "python",
   "pygments_lexer": "ipython2",
   "version": "2.7.6"
  }
 },
 "nbformat": 4,
 "nbformat_minor": 5
}
