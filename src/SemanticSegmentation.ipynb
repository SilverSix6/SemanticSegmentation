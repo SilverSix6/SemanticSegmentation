{
 "cells": [
  {
   "metadata": {},
   "cell_type": "markdown",
   "source": [
    "# Semantic Segmentation\n",
    "\n",
    "## Install\n"
   ],
   "id": "893fd908319d19f4"
  },
  {
   "metadata": {},
   "cell_type": "code",
   "outputs": [],
   "execution_count": null,
   "source": [
    "\n",
    "! cd ..\n",
    "! pip install -e ."
   ],
   "id": "fa6555fd1c288441"
  },
  {
   "metadata": {},
   "cell_type": "markdown",
   "source": [
    "### Compile SLIC algorithm:\n",
    "\n",
    "Linux:"
   ],
   "id": "9efee1b5370a7945"
  },
  {
   "metadata": {},
   "cell_type": "code",
   "outputs": [],
   "execution_count": null,
   "source": [
    "! cd segmentation\n",
    "! compile_slic.sh"
   ],
   "id": "79671169c40f1921"
  },
  {
   "metadata": {},
   "cell_type": "markdown",
   "source": "Windows:",
   "id": "602ca592a34922e1"
  },
  {
   "metadata": {},
   "cell_type": "code",
   "outputs": [],
   "execution_count": null,
   "source": "WIP",
   "id": "5c6d3d9d5b70449e"
  },
  {
   "metadata": {},
   "cell_type": "markdown",
   "source": [
    "## Run Algorithm:\n",
    "\n",
    "### Process SLIC training"
   ],
   "id": "a350e65bf4a681dd"
  },
  {
   "metadata": {},
   "cell_type": "code",
   "outputs": [],
   "execution_count": null,
   "source": [
    "from src.segment_full_slic import run_full_slic\n",
    "\n",
    "# SLIC Settings\n",
    "num_superpixels = 512\n",
    "m = 1\n",
    "max_iterations = 10\n",
    "threshold = 20\n",
    "\n",
    "run_full_slic(\"src/data/raw/test-images/leftImg8bit/train\", num_superpixels, m, max_iterations, threshold)"
   ],
   "id": "558afe7a88c10884"
  },
  {
   "metadata": {},
   "cell_type": "markdown",
   "source": "## SLIC Single Image",
   "id": "4bb5931e8648adab"
  },
  {
   "metadata": {},
   "cell_type": "code",
   "outputs": [],
   "execution_count": null,
   "source": [
    "from src.segment_single_slic import run_single_slic\n",
    "\n",
    "# SLIC Settings\n",
    "num_superpixels = 512\n",
    "m = 1\n",
    "max_iterations = 10\n",
    "threshold = 20\n",
    "\n",
    "run_single_slic(\"data/raw/test-images/standard_test_images/baboon.png\", num_superpixels, m, max_iterations, threshold)"
   ],
   "id": "ac016871a03a301d"
  },
  {
   "metadata": {},
   "cell_type": "code",
   "outputs": [],
   "execution_count": null,
   "source": "",
   "id": "43788c64e8a0ebb4"
  },
  {
   "metadata": {},
   "cell_type": "markdown",
   "source": "# SLIC Benchmarks",
   "id": "1a268ded810caffe"
  },
  {
   "metadata": {},
   "cell_type": "markdown",
   "source": [
    "## SLIC CPU vs GPU performance\n",
    "The following section runs slic on the list of test images. It first runs them using the cpu implementation then uses the gpu implementation writen in CUDA\n"
   ],
   "id": "b3d403c0644847bd"
  },
  {
   "metadata": {},
   "cell_type": "code",
   "outputs": [],
   "execution_count": null,
   "source": [
    "from src.slic_benchmark import run_slic_cpu_vs_gpu\n",
    "\n",
    "test_images = [\n",
    "    \"src/data/raw/test-images/leftImg8bit/test/berlin/berlin_000095_000019_leftImg8bit.png\",\n",
    "    \"src/data/raw/test-images/leftImg8bit/test/bielefeld/bielefeld_000000_006603_leftImg8bit.png\",\n",
    "    \"src/data/raw/test-images/leftImg8bit/test/bonn/bonn_000012_000019_leftImg8bit.png\",\n",
    "    \"src/data/raw/test-images/leftImg8bit/test/leverkusen/leverkusen_000053_000019_leftImg8bit.png\",\n",
    "    \"src/data/raw/test-images/leftImg8bit/test/mainz/mainz_000003_016360_leftImg8bit.png\",\n",
    "    \"src/data/raw/test-images/leftImg8bit/test/munich/munich_000385_000019_leftImg8bit.png\",\n",
    "]\n",
    "\n",
    "num_superpixels = 1024\n",
    "m = 4\n",
    "max_iterations = 15\n",
    "threshold = 200\n",
    "\n",
    "run_slic_cpu_vs_gpu(test_images, num_superpixels, m, max_iterations, threshold)\n"
   ],
   "id": "e83a0edb8f4a3fe7"
  },
  {
   "metadata": {},
   "cell_type": "markdown",
   "source": [
    "## SLIC with different image sizes\n",
    "The following section runs slic on one image with different scaling factors. This section only uses the gpu implementation."
   ],
   "id": "fd42127e30b7048f"
  },
  {
   "metadata": {},
   "cell_type": "code",
   "outputs": [],
   "execution_count": null,
   "source": [
    "from src.slic_benchmark import run_slic_image_size\n",
    "\n",
    "test_image = \"src/data/raw/test-images/leftImg8bit/test/berlin/berlin_000095_000019_leftImg8bit.png\"\n",
    "\n",
    "num_superpixels = 1024\n",
    "m = 4\n",
    "max_iterations = 15\n",
    "threshold = 200\n",
    "sub_divisions = 3\n",
    "\n",
    "run_slic_image_size(test_image, sub_divisions, num_superpixels, m, max_iterations, threshold)"
   ],
   "id": "3f459bb1f72598f2"
  },
  {
   "metadata": {},
   "cell_type": "code",
   "outputs": [],
   "execution_count": null,
   "source": [
    "\n",
    "# SLIC Settings\n",
    "num_superpixels = 512\n",
    "m = 1\n",
    "max_iterations = 10\n",
    "threshold = 20\n",
    "\n",
    "run_single_slic(\"data/raw/test-images/standard_test_images/baboon.png\", num_superpixels, m, max_iterations, threshold)"
   ],
   "id": "e15a9b804caca2"
  }
 ],
 "metadata": {
  "kernelspec": {
   "display_name": "Python 3",
   "language": "python",
   "name": "python3"
  },
  "language_info": {
   "codemirror_mode": {
    "name": "ipython",
    "version": 2
   },
   "file_extension": ".py",
   "mimetype": "text/x-python",
   "name": "python",
   "nbconvert_exporter": "python",
   "pygments_lexer": "ipython2",
   "version": "2.7.6"
  }
 },
 "nbformat": 4,
 "nbformat_minor": 5
}
